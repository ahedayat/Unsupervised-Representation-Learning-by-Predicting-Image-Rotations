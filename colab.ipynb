{
  "cells": [
    {
      "cell_type": "markdown",
      "metadata": {
        "id": "FBzV4IOmoDmr"
      },
      "source": [
        "# Connect to Google Drive"
      ]
    },
    {
      "cell_type": "code",
      "execution_count": null,
      "metadata": {
        "colab": {
          "base_uri": "https://localhost:8080/"
        },
        "id": "Ux_abYX5oEkP",
        "outputId": "fb3c0be5-1229-4441-df17-e961ffccc6b8"
      },
      "outputs": [
        {
          "output_type": "stream",
          "name": "stdout",
          "text": [
            "Drive already mounted at /content/drive; to attempt to forcibly remount, call drive.mount(\"/content/drive\", force_remount=True).\n"
          ]
        }
      ],
      "source": [
        "from google.colab import drive\n",
        "drive.mount('/content/drive')"
      ]
    },
    {
      "cell_type": "markdown",
      "metadata": {
        "id": "BQZvXAVsoI4s"
      },
      "source": [
        "# Download Dataset "
      ]
    },
    {
      "cell_type": "code",
      "execution_count": null,
      "metadata": {
        "id": "jNVgss0toGuy",
        "colab": {
          "base_uri": "https://localhost:8080/"
        },
        "outputId": "6629ecef-3e0f-46c4-8313-614b454f7030"
      },
      "outputs": [
        {
          "output_type": "stream",
          "name": "stdout",
          "text": [
            "mkdir: cannot create directory ‘/content/datasets’: File exists\n"
          ]
        }
      ],
      "source": [
        "!mkdir \"/content/datasets\""
      ]
    },
    {
      "cell_type": "code",
      "execution_count": null,
      "metadata": {
        "colab": {
          "base_uri": "https://localhost:8080/"
        },
        "id": "-yUX78MhoQ1t",
        "outputId": "3daecc64-06e3-434f-ffa8-a48d203ff4ca"
      },
      "outputs": [
        {
          "output_type": "stream",
          "name": "stdout",
          "text": [
            "Files already downloaded and verified\n"
          ]
        },
        {
          "output_type": "execute_result",
          "data": {
            "text/plain": [
              "Dataset CIFAR10\n",
              "    Number of datapoints: 50000\n",
              "    Root location: /content/datasets/cifar10\n",
              "    Split: Train"
            ]
          },
          "metadata": {},
          "execution_count": 16
        }
      ],
      "source": [
        "import torchvision \n",
        "\n",
        "torchvision.datasets.CIFAR10(root='/content/datasets/cifar10', train=True, download=True)"
      ]
    },
    {
      "cell_type": "code",
      "execution_count": null,
      "metadata": {
        "colab": {
          "base_uri": "https://localhost:8080/"
        },
        "id": "UsV37k9hoQ55",
        "outputId": "35e56f86-5310-4749-b958-94c51bc67a32"
      },
      "outputs": [
        {
          "output_type": "stream",
          "name": "stdout",
          "text": [
            "Files already downloaded and verified\n"
          ]
        },
        {
          "output_type": "execute_result",
          "data": {
            "text/plain": [
              "Dataset CIFAR10\n",
              "    Number of datapoints: 10000\n",
              "    Root location: /content/datasets/cifar10\n",
              "    Split: Test"
            ]
          },
          "metadata": {},
          "execution_count": 17
        }
      ],
      "source": [
        "torchvision.datasets.CIFAR10(root='/content/datasets/cifar10', train=False,download=True)"
      ]
    },
    {
      "cell_type": "markdown",
      "metadata": {
        "id": "-38ISMlLoNZe"
      },
      "source": [
        "# Train "
      ]
    },
    {
      "cell_type": "code",
      "execution_count": null,
      "metadata": {
        "colab": {
          "base_uri": "https://localhost:8080/"
        },
        "id": "fryZgk8moM1I",
        "outputId": "1a6d2aa1-cf10-4661-c22f-e4b00a6e7a5e"
      },
      "outputs": [
        {
          "output_type": "stream",
          "name": "stdout",
          "text": [
            "/content/drive/MyDrive/ADL-P03-02\n",
            "checkpoints_all\t\t\t    reports_classification\n",
            "checkpoints_classification\t    reports_classification_all_4\n",
            "checkpoints_classification_not_all  reports_classification_not_all_1\n",
            "checkpoints_not_all\t\t    reports_classification_not_all_2\n",
            "dataloaders\t\t\t    reports_classification_not_all_3\n",
            "datasets\t\t\t    _reports_classification_not_all_4\n",
            "deeplearning\t\t\t    reports_classification_not_all_4\n",
            "eval.py\t\t\t\t    reports_not_all\n",
            "eval.sh\t\t\t\t    train.py\n",
            "nets\t\t\t\t    train.sh\n",
            "optim\t\t\t\t    utils\n",
            "reports_all\n"
          ]
        }
      ],
      "source": [
        "%cd \"/content/drive/MyDrive/ADL-P03-02\"\n",
        "!ls ."
      ]
    },
    {
      "cell_type": "code",
      "execution_count": null,
      "metadata": {
        "colab": {
          "base_uri": "https://localhost:8080/"
        },
        "id": "sK-cAoEeoWpw",
        "outputId": "4f58f4d6-5470-4949-bf08-992bc1d7a7db"
      },
      "outputs": [
        {
          "output_type": "stream",
          "name": "stdout",
          "text": [
            "################################\n",
            "Namespace(backbone='resnet34'\n",
            " batch_size=1024\n",
            " ckpt_load_path=None\n",
            " ckpt_prefix='rotation_'\n",
            " ckpt_save_freq=5\n",
            " ckpt_save_path='./checkpoints'\n",
            " feature_layer_index=1\n",
            " gpu=True\n",
            " lr=0.001\n",
            " momentum=0.9\n",
            " num_epochs=20\n",
            " num_workers=2\n",
            " optimizer='adam'\n",
            " report_path='./reports'\n",
            " show_all_angles=True\n",
            " shuffle_data=True\n",
            " test_data_path='./datasets/cifar10'\n",
            " train_data_path='/content/datasets/cifar10'\n",
            " val_data_path='/content/datasets/cifar10'\n",
            " weight_decay=0.005)\n",
            "################################\n",
            "Files already downloaded and verified\n",
            "Files already downloaded and verified\n",
            "Files already downloaded and verified\n",
            "Number of training data:  180000\n",
            "Number of validation data:  20000\n",
            "Adam (\n",
            "Parameter Group 0\n",
            "    amsgrad: False\n",
            "    betas: (0.9, 0.999)\n",
            "    eps: 1e-08\n",
            "    lr: 0.001\n",
            "    maximize: False\n",
            "    weight_decay: 0.005\n",
            ")\n",
            "Training Classifier @ Epoch 0: 100% 175/175 [00:51<00:00,  3.40it/s, acc1=73.560, acc2=88.672, loss=0.662, lr=1.00000e-03]\n",
            "Evaluation Classifier @ Epoch 0: 100% 19/19 [00:04<00:00,  3.93it/s, acc1=73.741, acc2=88.708, loss=0.680]\n",
            "Training Classifier @ Epoch 1: 100% 175/175 [00:51<00:00,  3.41it/s, acc1=78.760, acc2=91.636, loss=0.552, lr=1.00000e-03]\n",
            "Evaluation Classifier @ Epoch 1: 100% 19/19 [00:04<00:00,  3.84it/s, acc1=76.213, acc2=89.808, loss=0.619]\n",
            "Training Classifier @ Epoch 2: 100% 175/175 [00:51<00:00,  3.40it/s, acc1=80.050, acc2=92.226, loss=0.522, lr=1.00000e-03]\n",
            "Evaluation Classifier @ Epoch 2: 100% 19/19 [00:05<00:00,  3.79it/s, acc1=76.681, acc2=90.291, loss=0.596]\n",
            "Training Classifier @ Epoch 3: 100% 175/175 [00:51<00:00,  3.41it/s, acc1=80.959, acc2=92.678, loss=0.503, lr=1.00000e-03]\n",
            "Evaluation Classifier @ Epoch 3: 100% 19/19 [00:04<00:00,  3.88it/s, acc1=76.357, acc2=88.775, loss=0.627]\n",
            "Training Classifier @ Epoch 4: 100% 175/175 [00:51<00:00,  3.40it/s, acc1=81.956, acc2=93.271, loss=0.476, lr=1.00000e-03]\n",
            "Evaluation Classifier @ Epoch 4: 100% 19/19 [00:04<00:00,  3.92it/s, acc1=74.121, acc2=88.595, loss=0.688]\n",
            "(Epoch: 4) > Model Saved.\n",
            "Training Classifier @ Epoch 5: 100% 175/175 [00:51<00:00,  3.38it/s, acc1=88.168, acc2=95.980, loss=0.321, lr=1.00000e-04]\n",
            "Evaluation Classifier @ Epoch 5: 100% 19/19 [00:04<00:00,  3.88it/s, acc1=84.298, acc2=94.423, loss=0.412]\n",
            "Training Classifier @ Epoch 6: 100% 175/175 [00:51<00:00,  3.41it/s, acc1=91.219, acc2=97.141, loss=0.245, lr=1.00000e-04]\n",
            "Evaluation Classifier @ Epoch 6: 100% 19/19 [00:05<00:00,  3.79it/s, acc1=84.637, acc2=94.454, loss=0.421]\n",
            "Training Classifier @ Epoch 7: 100% 175/175 [00:51<00:00,  3.40it/s, acc1=93.403, acc2=97.919, loss=0.189, lr=1.00000e-04]\n",
            "Evaluation Classifier @ Epoch 7: 100% 19/19 [00:04<00:00,  3.85it/s, acc1=84.509, acc2=94.362, loss=0.448]\n",
            "Training Classifier @ Epoch 8: 100% 175/175 [00:51<00:00,  3.41it/s, acc1=95.318, acc2=98.583, loss=0.139, lr=1.00000e-04]\n",
            "Evaluation Classifier @ Epoch 8: 100% 19/19 [00:04<00:00,  3.82it/s, acc1=84.252, acc2=94.130, loss=0.513]\n",
            "Training Classifier @ Epoch 9: 100% 175/175 [00:51<00:00,  3.41it/s, acc1=97.960, acc2=99.293, loss=0.073, lr=1.00000e-05]\n",
            "Evaluation Classifier @ Epoch 9: 100% 19/19 [00:04<00:00,  3.83it/s, acc1=84.529, acc2=94.444, loss=0.567]\n",
            "(Epoch: 9) > Model Saved.\n",
            "Training Classifier @ Epoch 10: 100% 175/175 [00:51<00:00,  3.38it/s, acc1=98.626, acc2=99.428, loss=0.053, lr=1.00000e-05]\n",
            "Evaluation Classifier @ Epoch 10: 100% 19/19 [00:04<00:00,  3.83it/s, acc1=84.360, acc2=94.305, loss=0.615]\n",
            "Training Classifier @ Epoch 11: 100% 175/175 [00:51<00:00,  3.41it/s, acc1=98.988, acc2=99.517, loss=0.042, lr=1.00000e-05]\n",
            "Evaluation Classifier @ Epoch 11: 100% 19/19 [00:04<00:00,  3.83it/s, acc1=84.272, acc2=94.192, loss=0.649]\n",
            "Training Classifier @ Epoch 12: 100% 175/175 [00:51<00:00,  3.40it/s, acc1=99.190, acc2=99.569, loss=0.034, lr=1.00000e-05]\n",
            "Evaluation Classifier @ Epoch 12: 100% 19/19 [00:05<00:00,  3.76it/s, acc1=84.113, acc2=93.940, loss=0.688]\n",
            "Training Classifier @ Epoch 13: 100% 175/175 [00:51<00:00,  3.40it/s, acc1=99.395, acc2=99.644, loss=0.028, lr=1.00000e-06]\n",
            "Evaluation Classifier @ Epoch 13: 100% 19/19 [00:05<00:00,  3.79it/s, acc1=84.185, acc2=94.022, loss=0.689]\n",
            "Training Classifier @ Epoch 14: 100% 175/175 [00:51<00:00,  3.40it/s, acc1=99.408, acc2=99.653, loss=0.028, lr=1.00000e-06]\n",
            "Evaluation Classifier @ Epoch 14: 100% 19/19 [00:04<00:00,  3.89it/s, acc1=84.118, acc2=93.961, loss=0.696]\n",
            "(Epoch: 14) > Model Saved.\n",
            "Training Classifier @ Epoch 15: 100% 175/175 [00:51<00:00,  3.39it/s, acc1=99.419, acc2=99.652, loss=0.027, lr=1.00000e-06]\n",
            "Evaluation Classifier @ Epoch 15: 100% 19/19 [00:04<00:00,  3.84it/s, acc1=84.108, acc2=93.873, loss=0.700]\n",
            "Training Classifier @ Epoch 16: 100% 175/175 [00:51<00:00,  3.40it/s, acc1=99.443, acc2=99.657, loss=0.026, lr=1.00000e-06]\n",
            "Evaluation Classifier @ Epoch 16: 100% 19/19 [00:05<00:00,  3.77it/s, acc1=84.072, acc2=93.904, loss=0.707]\n",
            "Training Classifier @ Epoch 17: 100% 175/175 [00:51<00:00,  3.40it/s, acc1=99.448, acc2=99.662, loss=0.026, lr=1.00000e-06]\n",
            "Evaluation Classifier @ Epoch 17: 100% 19/19 [00:04<00:00,  3.84it/s, acc1=84.128, acc2=93.827, loss=0.712]\n",
            "Training Classifier @ Epoch 18: 100% 175/175 [00:51<00:00,  3.41it/s, acc1=99.464, acc2=99.670, loss=0.025, lr=1.00000e-06]\n",
            "Evaluation Classifier @ Epoch 18: 100% 19/19 [00:04<00:00,  3.83it/s, acc1=84.113, acc2=93.868, loss=0.715]\n",
            "Training Classifier @ Epoch 19: 100% 175/175 [00:51<00:00,  3.42it/s, acc1=99.471, acc2=99.672, loss=0.025, lr=1.00000e-06]\n",
            "Evaluation Classifier @ Epoch 19: 100% 19/19 [00:05<00:00,  3.73it/s, acc1=84.082, acc2=93.812, loss=0.720]\n",
            "(Epoch: 19) > Model Saved.\n"
          ]
        }
      ],
      "source": [
        "!bash ./train.sh"
      ]
    },
    {
      "cell_type": "markdown",
      "source": [
        "# Evaluating Representations"
      ],
      "metadata": {
        "id": "hwPocZQwal6j"
      }
    },
    {
      "cell_type": "code",
      "source": [
        "%cd \"/content/drive/MyDrive/ADL-P03-02\"\n",
        "!ls ."
      ],
      "metadata": {
        "colab": {
          "base_uri": "https://localhost:8080/"
        },
        "id": "0l_6xRdgalDO",
        "outputId": "74c4817a-d25e-473f-c86c-6b8da753c18e"
      },
      "execution_count": null,
      "outputs": [
        {
          "output_type": "stream",
          "name": "stdout",
          "text": [
            "/content/drive/MyDrive/ADL-P03-02\n",
            "checkpoints_all\t\t\t    reports_classification\n",
            "checkpoints_classification\t    reports_classification_all_4\n",
            "checkpoints_classification_not_all  reports_classification_not_all_1\n",
            "checkpoints_not_all\t\t    reports_classification_not_all_2\n",
            "dataloaders\t\t\t    reports_classification_not_all_3\n",
            "datasets\t\t\t    _reports_classification_not_all_4\n",
            "deeplearning\t\t\t    reports_classification_not_all_4\n",
            "eval.py\t\t\t\t    reports_not_all\n",
            "eval.sh\t\t\t\t    train.py\n",
            "nets\t\t\t\t    train.sh\n",
            "optim\t\t\t\t    utils\n",
            "reports_all\n"
          ]
        }
      ]
    },
    {
      "cell_type": "code",
      "execution_count": null,
      "metadata": {
        "id": "dNyPZsUQomxF",
        "colab": {
          "base_uri": "https://localhost:8080/"
        },
        "outputId": "d733e0cf-708f-47be-c107-1098b7473ddd"
      },
      "outputs": [
        {
          "output_type": "stream",
          "name": "stdout",
          "text": [
            "################################\n",
            "Namespace(backbone='resnet34'\n",
            " batch_size=1024\n",
            " ckpt_load_path='./checkpoints_all/rotation_final_all.ckpt'\n",
            " ckpt_prefix='classification'\n",
            " ckpt_save_freq=20\n",
            " ckpt_save_path='./checkpoints_classification'\n",
            " feature_layer_index=2\n",
            " gpu=True\n",
            " lr=0.001\n",
            " momentum=0.9\n",
            " num_epochs=100\n",
            " num_workers=2\n",
            " optimizer='adam'\n",
            " report_path='./reports_classification_all_2'\n",
            " show_all_angles=True\n",
            " shuffle_data=False\n",
            " test_data_path='./datasets/cifar10'\n",
            " train_data_path='/content/datasets/cifar10'\n",
            " val_data_path='/content/datasets/cifar10'\n",
            " weight_decay=0.0005)\n",
            "################################\n",
            "Files already downloaded and verified\n",
            "Files already downloaded and verified\n",
            "Files already downloaded and verified\n",
            "Loading './checkpoints_all/rotation_final_all.ckpt'\n",
            "Model is loaded successfully.\n",
            "MyResNet34(\n",
            "  (backbone): ResNet(\n",
            "    (conv1): Conv2d(3, 64, kernel_size=(7, 7), stride=(2, 2), padding=(3, 3), bias=False)\n",
            "    (bn1): BatchNorm2d(64, eps=1e-05, momentum=0.1, affine=True, track_running_stats=True)\n",
            "    (relu): ReLU(inplace=True)\n",
            "    (maxpool): MaxPool2d(kernel_size=3, stride=2, padding=1, dilation=1, ceil_mode=False)\n",
            "    (layer1): Sequential(\n",
            "      (0): BasicBlock(\n",
            "        (conv1): Conv2d(64, 64, kernel_size=(3, 3), stride=(1, 1), padding=(1, 1), bias=False)\n",
            "        (bn1): BatchNorm2d(64, eps=1e-05, momentum=0.1, affine=True, track_running_stats=True)\n",
            "        (relu): ReLU(inplace=True)\n",
            "        (conv2): Conv2d(64, 64, kernel_size=(3, 3), stride=(1, 1), padding=(1, 1), bias=False)\n",
            "        (bn2): BatchNorm2d(64, eps=1e-05, momentum=0.1, affine=True, track_running_stats=True)\n",
            "      )\n",
            "      (1): BasicBlock(\n",
            "        (conv1): Conv2d(64, 64, kernel_size=(3, 3), stride=(1, 1), padding=(1, 1), bias=False)\n",
            "        (bn1): BatchNorm2d(64, eps=1e-05, momentum=0.1, affine=True, track_running_stats=True)\n",
            "        (relu): ReLU(inplace=True)\n",
            "        (conv2): Conv2d(64, 64, kernel_size=(3, 3), stride=(1, 1), padding=(1, 1), bias=False)\n",
            "        (bn2): BatchNorm2d(64, eps=1e-05, momentum=0.1, affine=True, track_running_stats=True)\n",
            "      )\n",
            "      (2): BasicBlock(\n",
            "        (conv1): Conv2d(64, 64, kernel_size=(3, 3), stride=(1, 1), padding=(1, 1), bias=False)\n",
            "        (bn1): BatchNorm2d(64, eps=1e-05, momentum=0.1, affine=True, track_running_stats=True)\n",
            "        (relu): ReLU(inplace=True)\n",
            "        (conv2): Conv2d(64, 64, kernel_size=(3, 3), stride=(1, 1), padding=(1, 1), bias=False)\n",
            "        (bn2): BatchNorm2d(64, eps=1e-05, momentum=0.1, affine=True, track_running_stats=True)\n",
            "      )\n",
            "    )\n",
            "    (layer2): Sequential(\n",
            "      (0): BasicBlock(\n",
            "        (conv1): Conv2d(64, 128, kernel_size=(3, 3), stride=(2, 2), padding=(1, 1), bias=False)\n",
            "        (bn1): BatchNorm2d(128, eps=1e-05, momentum=0.1, affine=True, track_running_stats=True)\n",
            "        (relu): ReLU(inplace=True)\n",
            "        (conv2): Conv2d(128, 128, kernel_size=(3, 3), stride=(1, 1), padding=(1, 1), bias=False)\n",
            "        (bn2): BatchNorm2d(128, eps=1e-05, momentum=0.1, affine=True, track_running_stats=True)\n",
            "        (downsample): Sequential(\n",
            "          (0): Conv2d(64, 128, kernel_size=(1, 1), stride=(2, 2), bias=False)\n",
            "          (1): BatchNorm2d(128, eps=1e-05, momentum=0.1, affine=True, track_running_stats=True)\n",
            "        )\n",
            "      )\n",
            "      (1): BasicBlock(\n",
            "        (conv1): Conv2d(128, 128, kernel_size=(3, 3), stride=(1, 1), padding=(1, 1), bias=False)\n",
            "        (bn1): BatchNorm2d(128, eps=1e-05, momentum=0.1, affine=True, track_running_stats=True)\n",
            "        (relu): ReLU(inplace=True)\n",
            "        (conv2): Conv2d(128, 128, kernel_size=(3, 3), stride=(1, 1), padding=(1, 1), bias=False)\n",
            "        (bn2): BatchNorm2d(128, eps=1e-05, momentum=0.1, affine=True, track_running_stats=True)\n",
            "      )\n",
            "      (2): BasicBlock(\n",
            "        (conv1): Conv2d(128, 128, kernel_size=(3, 3), stride=(1, 1), padding=(1, 1), bias=False)\n",
            "        (bn1): BatchNorm2d(128, eps=1e-05, momentum=0.1, affine=True, track_running_stats=True)\n",
            "        (relu): ReLU(inplace=True)\n",
            "        (conv2): Conv2d(128, 128, kernel_size=(3, 3), stride=(1, 1), padding=(1, 1), bias=False)\n",
            "        (bn2): BatchNorm2d(128, eps=1e-05, momentum=0.1, affine=True, track_running_stats=True)\n",
            "      )\n",
            "      (3): BasicBlock(\n",
            "        (conv1): Conv2d(128, 128, kernel_size=(3, 3), stride=(1, 1), padding=(1, 1), bias=False)\n",
            "        (bn1): BatchNorm2d(128, eps=1e-05, momentum=0.1, affine=True, track_running_stats=True)\n",
            "        (relu): ReLU(inplace=True)\n",
            "        (conv2): Conv2d(128, 128, kernel_size=(3, 3), stride=(1, 1), padding=(1, 1), bias=False)\n",
            "        (bn2): BatchNorm2d(128, eps=1e-05, momentum=0.1, affine=True, track_running_stats=True)\n",
            "      )\n",
            "    )\n",
            "    (layer3): Identity()\n",
            "    (layer4): Identity()\n",
            "    (avgpool): AdaptiveAvgPool2d(output_size=(1, 1))\n",
            "    (fc): Identity()\n",
            "  )\n",
            "  (my_classifier): Sequential(\n",
            "    (0): BatchNorm1d(128, eps=1e-05, momentum=0.1, affine=True, track_running_stats=True)\n",
            "    (1): Linear(in_features=128, out_features=64, bias=True)\n",
            "    (2): Dropout(p=0.2, inplace=True)\n",
            "    (3): Linear(in_features=64, out_features=32, bias=True)\n",
            "    (4): Dropout(p=0.2, inplace=True)\n",
            "    (5): Linear(in_features=32, out_features=10, bias=True)\n",
            "  )\n",
            ")\n",
            "Adam (\n",
            "Parameter Group 0\n",
            "    amsgrad: False\n",
            "    betas: (0.9, 0.999)\n",
            "    eps: 1e-08\n",
            "    lr: 0.001\n",
            "    maximize: False\n",
            "    weight_decay: 0.0005\n",
            ")\n",
            "Training Classifier @ Epoch 0: 100% 43/43 [00:07<00:00,  5.76it/s, acc1=40.820, acc2=62.482, loss=1.734, lr=1.00000e-03]\n",
            "Evaluation Classifier @ Epoch 0: 100% 4/4 [00:00<00:00,  4.73it/s, acc1=52.808, acc2=75.464, loss=1.774]\n",
            "Training Classifier @ Epoch 1: 100% 43/43 [00:07<00:00,  5.77it/s, acc1=54.011, acc2=76.699, loss=1.252, lr=1.00000e-03]\n",
            "Evaluation Classifier @ Epoch 1: 100% 4/4 [00:00<00:00,  4.66it/s, acc1=60.864, acc2=80.273, loss=1.126]\n",
            "Training Classifier @ Epoch 2: 100% 43/43 [00:07<00:00,  5.76it/s, acc1=57.694, acc2=78.879, loss=1.169, lr=1.00000e-03]\n",
            "Evaluation Classifier @ Epoch 2: 100% 4/4 [00:00<00:00,  4.63it/s, acc1=62.866, acc2=81.128, loss=1.051]\n",
            "Training Classifier @ Epoch 3: 100% 43/43 [00:07<00:00,  5.77it/s, acc1=59.659, acc2=80.019, loss=1.127, lr=1.00000e-03]\n",
            "Evaluation Classifier @ Epoch 3: 100% 4/4 [00:00<00:00,  4.63it/s, acc1=63.745, acc2=81.787, loss=1.027]\n",
            "Training Classifier @ Epoch 4: 100% 43/43 [00:07<00:00,  5.77it/s, acc1=60.283, acc2=80.130, loss=1.109, lr=1.00000e-03]\n",
            "Evaluation Classifier @ Epoch 4: 100% 4/4 [00:00<00:00,  4.70it/s, acc1=64.111, acc2=82.397, loss=1.012]\n",
            "Training Classifier @ Epoch 5: 100% 43/43 [00:07<00:00,  5.79it/s, acc1=61.212, acc2=80.798, loss=1.092, lr=1.00000e-04]\n",
            "Evaluation Classifier @ Epoch 5: 100% 4/4 [00:00<00:00,  4.63it/s, acc1=64.160, acc2=82.422, loss=1.008]\n",
            "Training Classifier @ Epoch 6: 100% 43/43 [00:07<00:00,  5.68it/s, acc1=60.783, acc2=80.514, loss=1.095, lr=1.00000e-04]\n",
            "Evaluation Classifier @ Epoch 6: 100% 4/4 [00:00<00:00,  4.41it/s, acc1=64.233, acc2=82.349, loss=1.007]\n",
            "Training Classifier @ Epoch 7: 100% 43/43 [00:07<00:00,  5.74it/s, acc1=61.187, acc2=80.639, loss=1.091, lr=1.00000e-04]\n",
            "Evaluation Classifier @ Epoch 7: 100% 4/4 [00:00<00:00,  4.30it/s, acc1=64.355, acc2=82.275, loss=1.006]\n",
            "Training Classifier @ Epoch 8: 100% 43/43 [00:07<00:00,  5.76it/s, acc1=61.176, acc2=80.507, loss=1.089, lr=1.00000e-04]\n",
            "Evaluation Classifier @ Epoch 8: 100% 4/4 [00:00<00:00,  4.56it/s, acc1=64.185, acc2=82.373, loss=1.005]\n",
            "Training Classifier @ Epoch 9: 100% 43/43 [00:07<00:00,  5.73it/s, acc1=61.135, acc2=80.646, loss=1.086, lr=1.00000e-05]\n",
            "Evaluation Classifier @ Epoch 9: 100% 4/4 [00:00<00:00,  4.60it/s, acc1=64.258, acc2=82.397, loss=1.005]\n",
            "Training Classifier @ Epoch 10: 100% 43/43 [00:07<00:00,  5.77it/s, acc1=61.271, acc2=80.478, loss=1.088, lr=1.00000e-05]\n",
            "Evaluation Classifier @ Epoch 10: 100% 4/4 [00:00<00:00,  4.55it/s, acc1=64.185, acc2=82.422, loss=1.004]\n",
            "Training Classifier @ Epoch 11: 100% 43/43 [00:07<00:00,  5.75it/s, acc1=61.019, acc2=80.843, loss=1.089, lr=1.00000e-05]\n",
            "Evaluation Classifier @ Epoch 11: 100% 4/4 [00:00<00:00,  4.49it/s, acc1=64.355, acc2=82.373, loss=1.004]\n",
            "Training Classifier @ Epoch 12: 100% 43/43 [00:07<00:00,  5.71it/s, acc1=61.235, acc2=80.714, loss=1.090, lr=1.00000e-05]\n",
            "Evaluation Classifier @ Epoch 12: 100% 4/4 [00:00<00:00,  4.52it/s, acc1=64.258, acc2=82.324, loss=1.004]\n",
            "Training Classifier @ Epoch 13: 100% 43/43 [00:07<00:00,  5.72it/s, acc1=61.190, acc2=80.662, loss=1.087, lr=1.00000e-06]\n",
            "Evaluation Classifier @ Epoch 13: 100% 4/4 [00:00<00:00,  4.68it/s, acc1=64.185, acc2=82.446, loss=1.004]\n",
            "Training Classifier @ Epoch 14: 100% 43/43 [00:07<00:00,  5.67it/s, acc1=60.813, acc2=80.682, loss=1.091, lr=1.00000e-06]\n",
            "Evaluation Classifier @ Epoch 14: 100% 4/4 [00:00<00:00,  4.52it/s, acc1=64.282, acc2=82.300, loss=1.004]\n",
            "Training Classifier @ Epoch 15: 100% 43/43 [00:07<00:00,  5.69it/s, acc1=60.999, acc2=80.596, loss=1.090, lr=1.00000e-06]\n",
            "Evaluation Classifier @ Epoch 15: 100% 4/4 [00:00<00:00,  4.65it/s, acc1=64.258, acc2=82.422, loss=1.004]\n",
            "Training Classifier @ Epoch 16: 100% 43/43 [00:07<00:00,  5.61it/s, acc1=60.942, acc2=80.596, loss=1.091, lr=1.00000e-06]\n",
            "Evaluation Classifier @ Epoch 16: 100% 4/4 [00:00<00:00,  4.62it/s, acc1=64.282, acc2=82.397, loss=1.004]\n",
            "Training Classifier @ Epoch 17: 100% 43/43 [00:07<00:00,  5.72it/s, acc1=61.255, acc2=80.762, loss=1.091, lr=1.00000e-06]\n",
            "Evaluation Classifier @ Epoch 17: 100% 4/4 [00:00<00:00,  4.71it/s, acc1=64.331, acc2=82.251, loss=1.004]\n",
            "Training Classifier @ Epoch 18: 100% 43/43 [00:07<00:00,  5.74it/s, acc1=61.008, acc2=80.673, loss=1.088, lr=1.00000e-06]\n",
            "Evaluation Classifier @ Epoch 18: 100% 4/4 [00:00<00:00,  4.53it/s, acc1=64.160, acc2=82.373, loss=1.004]\n",
            "Training Classifier @ Epoch 19: 100% 43/43 [00:07<00:00,  5.67it/s, acc1=61.219, acc2=80.841, loss=1.088, lr=1.00000e-06]\n",
            "Evaluation Classifier @ Epoch 19: 100% 4/4 [00:00<00:00,  4.67it/s, acc1=64.282, acc2=82.422, loss=1.004]\n",
            "(Epoch: 19) > Model Saved.\n",
            "Training Classifier @ Epoch 20: 100% 43/43 [00:07<00:00,  5.68it/s, acc1=61.033, acc2=80.830, loss=1.089, lr=1.00000e-06]\n",
            "Evaluation Classifier @ Epoch 20: 100% 4/4 [00:00<00:00,  4.62it/s, acc1=64.233, acc2=82.471, loss=1.004]\n",
            "Training Classifier @ Epoch 21: 100% 43/43 [00:07<00:00,  5.71it/s, acc1=61.353, acc2=80.748, loss=1.088, lr=1.00000e-06]\n",
            "Evaluation Classifier @ Epoch 21: 100% 4/4 [00:00<00:00,  4.50it/s, acc1=64.209, acc2=82.324, loss=1.004]\n",
            "Training Classifier @ Epoch 22: 100% 43/43 [00:07<00:00,  5.73it/s, acc1=61.149, acc2=80.755, loss=1.090, lr=1.00000e-06]\n",
            "Evaluation Classifier @ Epoch 22: 100% 4/4 [00:00<00:00,  4.43it/s, acc1=64.185, acc2=82.446, loss=1.004]\n",
            "Training Classifier @ Epoch 23: 100% 43/43 [00:07<00:00,  5.70it/s, acc1=60.969, acc2=80.769, loss=1.087, lr=1.00000e-06]\n",
            "Evaluation Classifier @ Epoch 23: 100% 4/4 [00:00<00:00,  4.53it/s, acc1=64.331, acc2=82.227, loss=1.004]\n",
            "Training Classifier @ Epoch 24: 100% 43/43 [00:07<00:00,  5.72it/s, acc1=61.194, acc2=80.696, loss=1.089, lr=1.00000e-06]\n",
            "Evaluation Classifier @ Epoch 24: 100% 4/4 [00:00<00:00,  4.50it/s, acc1=64.160, acc2=82.397, loss=1.004]\n",
            "Training Classifier @ Epoch 25: 100% 43/43 [00:07<00:00,  5.60it/s, acc1=61.058, acc2=80.650, loss=1.089, lr=1.00000e-06]\n",
            "Evaluation Classifier @ Epoch 25: 100% 4/4 [00:00<00:00,  4.59it/s, acc1=64.258, acc2=82.422, loss=1.004]\n",
            "Training Classifier @ Epoch 26: 100% 43/43 [00:07<00:00,  5.67it/s, acc1=60.994, acc2=80.748, loss=1.089, lr=1.00000e-06]\n",
            "Evaluation Classifier @ Epoch 26: 100% 4/4 [00:00<00:00,  4.68it/s, acc1=64.233, acc2=82.373, loss=1.004]\n",
            "Training Classifier @ Epoch 27: 100% 43/43 [00:07<00:00,  5.65it/s, acc1=61.135, acc2=80.746, loss=1.091, lr=1.00000e-06]\n",
            "Evaluation Classifier @ Epoch 27: 100% 4/4 [00:00<00:00,  4.66it/s, acc1=64.209, acc2=82.349, loss=1.004]\n",
            "Training Classifier @ Epoch 28: 100% 43/43 [00:07<00:00,  5.72it/s, acc1=61.185, acc2=80.773, loss=1.088, lr=1.00000e-06]\n",
            "Evaluation Classifier @ Epoch 28: 100% 4/4 [00:00<00:00,  4.58it/s, acc1=64.331, acc2=82.275, loss=1.004]\n",
            "Training Classifier @ Epoch 29: 100% 43/43 [00:07<00:00,  5.72it/s, acc1=61.208, acc2=80.671, loss=1.088, lr=1.00000e-06]\n",
            "Evaluation Classifier @ Epoch 29: 100% 4/4 [00:00<00:00,  4.54it/s, acc1=64.282, acc2=82.397, loss=1.004]\n",
            "Training Classifier @ Epoch 30: 100% 43/43 [00:07<00:00,  5.72it/s, acc1=61.394, acc2=80.907, loss=1.088, lr=1.00000e-06]\n",
            "Evaluation Classifier @ Epoch 30: 100% 4/4 [00:00<00:00,  4.37it/s, acc1=64.233, acc2=82.251, loss=1.004]\n",
            "Training Classifier @ Epoch 31: 100% 43/43 [00:07<00:00,  5.73it/s, acc1=61.205, acc2=80.905, loss=1.088, lr=1.00000e-06]\n",
            "Evaluation Classifier @ Epoch 31: 100% 4/4 [00:00<00:00,  4.63it/s, acc1=64.136, acc2=82.422, loss=1.004]\n",
            "Training Classifier @ Epoch 32: 100% 43/43 [00:07<00:00,  5.76it/s, acc1=61.071, acc2=80.625, loss=1.091, lr=1.00000e-06]\n",
            "Evaluation Classifier @ Epoch 32: 100% 4/4 [00:00<00:00,  4.56it/s, acc1=64.185, acc2=82.397, loss=1.003]\n",
            "Training Classifier @ Epoch 33: 100% 43/43 [00:07<00:00,  5.74it/s, acc1=60.913, acc2=80.673, loss=1.091, lr=1.00000e-06]\n",
            "Evaluation Classifier @ Epoch 33: 100% 4/4 [00:00<00:00,  4.61it/s, acc1=64.258, acc2=82.397, loss=1.004]\n",
            "Training Classifier @ Epoch 34: 100% 43/43 [00:07<00:00,  5.65it/s, acc1=61.106, acc2=80.759, loss=1.090, lr=1.00000e-06]\n",
            "Evaluation Classifier @ Epoch 34: 100% 4/4 [00:00<00:00,  4.47it/s, acc1=64.331, acc2=82.349, loss=1.004]\n",
            "Training Classifier @ Epoch 35: 100% 43/43 [00:07<00:00,  5.57it/s, acc1=61.037, acc2=80.414, loss=1.092, lr=1.00000e-06]\n",
            "Evaluation Classifier @ Epoch 35: 100% 4/4 [00:00<00:00,  4.41it/s, acc1=64.233, acc2=82.373, loss=1.004]\n",
            "Training Classifier @ Epoch 36: 100% 43/43 [00:07<00:00,  5.68it/s, acc1=61.094, acc2=80.837, loss=1.086, lr=1.00000e-06]\n",
            "Evaluation Classifier @ Epoch 36: 100% 4/4 [00:00<00:00,  4.48it/s, acc1=64.185, acc2=82.227, loss=1.004]\n",
            "Training Classifier @ Epoch 37: 100% 43/43 [00:07<00:00,  5.70it/s, acc1=61.269, acc2=80.610, loss=1.089, lr=1.00000e-06]\n",
            "Evaluation Classifier @ Epoch 37: 100% 4/4 [00:00<00:00,  4.58it/s, acc1=64.258, acc2=82.397, loss=1.004]\n",
            "Training Classifier @ Epoch 38: 100% 43/43 [00:07<00:00,  5.65it/s, acc1=61.237, acc2=80.734, loss=1.089, lr=1.00000e-06]\n",
            "Evaluation Classifier @ Epoch 38: 100% 4/4 [00:00<00:00,  4.50it/s, acc1=64.258, acc2=82.397, loss=1.004]\n",
            "Training Classifier @ Epoch 39: 100% 43/43 [00:07<00:00,  5.68it/s, acc1=60.938, acc2=80.716, loss=1.089, lr=1.00000e-06]\n",
            "Evaluation Classifier @ Epoch 39: 100% 4/4 [00:00<00:00,  4.62it/s, acc1=64.307, acc2=82.373, loss=1.004]\n",
            "(Epoch: 39) > Model Saved.\n",
            "Training Classifier @ Epoch 40: 100% 43/43 [00:07<00:00,  5.62it/s, acc1=61.012, acc2=80.698, loss=1.089, lr=1.00000e-06]\n",
            "Evaluation Classifier @ Epoch 40: 100% 4/4 [00:00<00:00,  4.51it/s, acc1=64.185, acc2=82.275, loss=1.004]\n",
            "Training Classifier @ Epoch 41: 100% 43/43 [00:07<00:00,  5.67it/s, acc1=61.205, acc2=80.714, loss=1.090, lr=1.00000e-06]\n",
            "Evaluation Classifier @ Epoch 41: 100% 4/4 [00:00<00:00,  4.63it/s, acc1=64.185, acc2=82.397, loss=1.004]\n",
            "Training Classifier @ Epoch 42: 100% 43/43 [00:07<00:00,  5.69it/s, acc1=60.822, acc2=80.825, loss=1.090, lr=1.00000e-06]\n",
            "Evaluation Classifier @ Epoch 42: 100% 4/4 [00:00<00:00,  4.51it/s, acc1=64.258, acc2=82.349, loss=1.004]\n",
            "Training Classifier @ Epoch 43: 100% 43/43 [00:07<00:00,  5.67it/s, acc1=61.201, acc2=80.571, loss=1.089, lr=1.00000e-06]\n",
            "Evaluation Classifier @ Epoch 43: 100% 4/4 [00:00<00:00,  4.63it/s, acc1=64.282, acc2=82.520, loss=1.003]\n",
            "Training Classifier @ Epoch 44: 100% 43/43 [00:07<00:00,  5.63it/s, acc1=61.071, acc2=80.705, loss=1.089, lr=1.00000e-06]\n",
            "Evaluation Classifier @ Epoch 44: 100% 4/4 [00:00<00:00,  4.62it/s, acc1=64.404, acc2=82.471, loss=1.004]\n",
            "Training Classifier @ Epoch 45: 100% 43/43 [00:07<00:00,  5.53it/s, acc1=61.183, acc2=80.862, loss=1.091, lr=1.00000e-06]\n",
            "Evaluation Classifier @ Epoch 45: 100% 4/4 [00:00<00:00,  4.57it/s, acc1=64.233, acc2=82.324, loss=1.004]\n",
            "Training Classifier @ Epoch 46: 100% 43/43 [00:07<00:00,  5.64it/s, acc1=61.194, acc2=80.828, loss=1.084, lr=1.00000e-06]\n",
            "Evaluation Classifier @ Epoch 46: 100% 4/4 [00:00<00:00,  4.50it/s, acc1=64.282, acc2=82.446, loss=1.003]\n",
            "Training Classifier @ Epoch 47: 100% 43/43 [00:07<00:00,  5.53it/s, acc1=61.333, acc2=80.773, loss=1.088, lr=1.00000e-06]\n",
            "Evaluation Classifier @ Epoch 47: 100% 4/4 [00:00<00:00,  4.58it/s, acc1=64.185, acc2=82.373, loss=1.003]\n",
            "Training Classifier @ Epoch 48: 100% 43/43 [00:07<00:00,  5.62it/s, acc1=61.349, acc2=80.759, loss=1.086, lr=1.00000e-06]\n",
            "Evaluation Classifier @ Epoch 48: 100% 4/4 [00:00<00:00,  4.44it/s, acc1=64.209, acc2=82.520, loss=1.003]\n",
            "Training Classifier @ Epoch 49: 100% 43/43 [00:07<00:00,  5.61it/s, acc1=61.330, acc2=80.685, loss=1.086, lr=1.00000e-06]\n",
            "Evaluation Classifier @ Epoch 49: 100% 4/4 [00:00<00:00,  4.53it/s, acc1=64.233, acc2=82.324, loss=1.004]\n",
            "Training Classifier @ Epoch 50: 100% 43/43 [00:07<00:00,  5.62it/s, acc1=61.319, acc2=80.780, loss=1.087, lr=1.00000e-06]\n",
            "Evaluation Classifier @ Epoch 50: 100% 4/4 [00:00<00:00,  4.45it/s, acc1=64.258, acc2=82.373, loss=1.004]\n",
            "Training Classifier @ Epoch 51: 100% 43/43 [00:07<00:00,  5.64it/s, acc1=61.192, acc2=80.607, loss=1.089, lr=1.00000e-06]\n",
            "Evaluation Classifier @ Epoch 51: 100% 4/4 [00:00<00:00,  4.48it/s, acc1=64.209, acc2=82.373, loss=1.003]\n",
            "Training Classifier @ Epoch 52: 100% 43/43 [00:07<00:00,  5.66it/s, acc1=61.119, acc2=80.603, loss=1.089, lr=1.00000e-06]\n",
            "Evaluation Classifier @ Epoch 52: 100% 4/4 [00:00<00:00,  4.58it/s, acc1=64.307, acc2=82.300, loss=1.004]\n",
            "Training Classifier @ Epoch 53: 100% 43/43 [00:07<00:00,  5.66it/s, acc1=61.233, acc2=80.714, loss=1.089, lr=1.00000e-06]\n",
            "Evaluation Classifier @ Epoch 53: 100% 4/4 [00:00<00:00,  4.36it/s, acc1=64.331, acc2=82.324, loss=1.003]\n",
            "Training Classifier @ Epoch 54: 100% 43/43 [00:07<00:00,  5.62it/s, acc1=61.031, acc2=80.632, loss=1.089, lr=1.00000e-06]\n",
            "Evaluation Classifier @ Epoch 54: 100% 4/4 [00:00<00:00,  4.47it/s, acc1=64.185, acc2=82.275, loss=1.004]\n",
            "Training Classifier @ Epoch 55: 100% 43/43 [00:07<00:00,  5.61it/s, acc1=61.217, acc2=80.719, loss=1.087, lr=1.00000e-06]\n",
            "Evaluation Classifier @ Epoch 55: 100% 4/4 [00:00<00:00,  4.58it/s, acc1=64.209, acc2=82.471, loss=1.004]\n",
            "Training Classifier @ Epoch 56: 100% 43/43 [00:07<00:00,  5.57it/s, acc1=61.274, acc2=80.778, loss=1.087, lr=1.00000e-06]\n",
            "Evaluation Classifier @ Epoch 56: 100% 4/4 [00:00<00:00,  4.34it/s, acc1=64.185, acc2=82.300, loss=1.004]\n",
            "Training Classifier @ Epoch 57: 100% 43/43 [00:07<00:00,  5.62it/s, acc1=61.276, acc2=80.528, loss=1.088, lr=1.00000e-06]\n",
            "Evaluation Classifier @ Epoch 57: 100% 4/4 [00:00<00:00,  4.57it/s, acc1=64.258, acc2=82.227, loss=1.003]\n",
            "Training Classifier @ Epoch 58: 100% 43/43 [00:07<00:00,  5.62it/s, acc1=61.083, acc2=80.825, loss=1.085, lr=1.00000e-06]\n",
            "Evaluation Classifier @ Epoch 58: 100% 4/4 [00:00<00:00,  4.45it/s, acc1=64.307, acc2=82.349, loss=1.004]\n",
            "Training Classifier @ Epoch 59: 100% 43/43 [00:07<00:00,  5.62it/s, acc1=61.160, acc2=80.596, loss=1.089, lr=1.00000e-06]\n",
            "Evaluation Classifier @ Epoch 59: 100% 4/4 [00:00<00:00,  4.61it/s, acc1=64.258, acc2=82.422, loss=1.003]\n",
            "(Epoch: 59) > Model Saved.\n",
            "Training Classifier @ Epoch 60: 100% 43/43 [00:07<00:00,  5.60it/s, acc1=61.392, acc2=80.750, loss=1.089, lr=1.00000e-06]\n",
            "Evaluation Classifier @ Epoch 60: 100% 4/4 [00:00<00:00,  4.55it/s, acc1=64.331, acc2=82.373, loss=1.004]\n",
            "Training Classifier @ Epoch 61: 100% 43/43 [00:07<00:00,  5.62it/s, acc1=61.178, acc2=80.446, loss=1.088, lr=1.00000e-06]\n",
            "Evaluation Classifier @ Epoch 61: 100% 4/4 [00:00<00:00,  4.45it/s, acc1=64.282, acc2=82.471, loss=1.003]\n",
            "Training Classifier @ Epoch 62: 100% 43/43 [00:07<00:00,  5.63it/s, acc1=61.201, acc2=80.598, loss=1.088, lr=1.00000e-06]\n",
            "Evaluation Classifier @ Epoch 62: 100% 4/4 [00:00<00:00,  4.59it/s, acc1=64.355, acc2=82.324, loss=1.004]\n",
            "Training Classifier @ Epoch 63: 100% 43/43 [00:07<00:00,  5.59it/s, acc1=61.212, acc2=80.705, loss=1.086, lr=1.00000e-06]\n",
            "Evaluation Classifier @ Epoch 63: 100% 4/4 [00:00<00:00,  4.42it/s, acc1=64.282, acc2=82.373, loss=1.003]\n",
            "Training Classifier @ Epoch 64: 100% 43/43 [00:07<00:00,  5.72it/s, acc1=61.096, acc2=80.816, loss=1.087, lr=1.00000e-06]\n",
            "Evaluation Classifier @ Epoch 64: 100% 4/4 [00:00<00:00,  4.49it/s, acc1=64.282, acc2=82.275, loss=1.003]\n",
            "Training Classifier @ Epoch 65: 100% 43/43 [00:07<00:00,  5.72it/s, acc1=61.094, acc2=80.689, loss=1.088, lr=1.00000e-06]\n",
            "Evaluation Classifier @ Epoch 65: 100% 4/4 [00:00<00:00,  4.52it/s, acc1=64.258, acc2=82.349, loss=1.004]\n",
            "Training Classifier @ Epoch 66: 100% 43/43 [00:07<00:00,  5.66it/s, acc1=61.562, acc2=80.889, loss=1.088, lr=1.00000e-06]\n",
            "Evaluation Classifier @ Epoch 66: 100% 4/4 [00:00<00:00,  4.44it/s, acc1=64.258, acc2=82.324, loss=1.003]\n",
            "Training Classifier @ Epoch 67: 100% 43/43 [00:07<00:00,  5.70it/s, acc1=60.974, acc2=80.650, loss=1.089, lr=1.00000e-06]\n",
            "Evaluation Classifier @ Epoch 67: 100% 4/4 [00:00<00:00,  4.58it/s, acc1=64.160, acc2=82.349, loss=1.004]\n",
            "Training Classifier @ Epoch 68: 100% 43/43 [00:07<00:00,  5.61it/s, acc1=61.215, acc2=80.700, loss=1.089, lr=1.00000e-06]\n",
            "Evaluation Classifier @ Epoch 68: 100% 4/4 [00:00<00:00,  4.59it/s, acc1=64.258, acc2=82.422, loss=1.003]\n",
            "Training Classifier @ Epoch 69: 100% 43/43 [00:07<00:00,  5.67it/s, acc1=60.962, acc2=80.691, loss=1.091, lr=1.00000e-06]\n",
            "Evaluation Classifier @ Epoch 69: 100% 4/4 [00:00<00:00,  4.47it/s, acc1=64.185, acc2=82.275, loss=1.003]\n",
            "Training Classifier @ Epoch 70: 100% 43/43 [00:07<00:00,  5.61it/s, acc1=61.271, acc2=80.705, loss=1.086, lr=1.00000e-06]\n",
            "Evaluation Classifier @ Epoch 70: 100% 4/4 [00:00<00:00,  4.57it/s, acc1=64.282, acc2=82.300, loss=1.003]\n",
            "Training Classifier @ Epoch 71: 100% 43/43 [00:07<00:00,  5.57it/s, acc1=61.144, acc2=80.648, loss=1.087, lr=1.00000e-06]\n",
            "Evaluation Classifier @ Epoch 71: 100% 4/4 [00:00<00:00,  4.62it/s, acc1=64.258, acc2=82.471, loss=1.004]\n",
            "Training Classifier @ Epoch 72: 100% 43/43 [00:07<00:00,  5.62it/s, acc1=61.176, acc2=80.746, loss=1.087, lr=1.00000e-06]\n",
            "Evaluation Classifier @ Epoch 72: 100% 4/4 [00:00<00:00,  4.57it/s, acc1=64.136, acc2=82.397, loss=1.003]\n",
            "Training Classifier @ Epoch 73: 100% 43/43 [00:07<00:00,  5.62it/s, acc1=61.244, acc2=80.728, loss=1.089, lr=1.00000e-06]\n",
            "Evaluation Classifier @ Epoch 73: 100% 4/4 [00:00<00:00,  4.46it/s, acc1=64.380, acc2=82.349, loss=1.003]\n",
            "Training Classifier @ Epoch 74: 100% 43/43 [00:07<00:00,  5.64it/s, acc1=61.108, acc2=80.707, loss=1.088, lr=1.00000e-06]\n",
            "Evaluation Classifier @ Epoch 74: 100% 4/4 [00:00<00:00,  4.42it/s, acc1=64.233, acc2=82.324, loss=1.003]\n",
            "Training Classifier @ Epoch 75: 100% 43/43 [00:07<00:00,  5.67it/s, acc1=61.335, acc2=80.696, loss=1.087, lr=1.00000e-06]\n",
            "Evaluation Classifier @ Epoch 75: 100% 4/4 [00:00<00:00,  4.46it/s, acc1=64.258, acc2=82.422, loss=1.003]\n",
            "Training Classifier @ Epoch 76: 100% 43/43 [00:07<00:00,  5.61it/s, acc1=61.230, acc2=80.712, loss=1.088, lr=1.00000e-06]\n",
            "Evaluation Classifier @ Epoch 76: 100% 4/4 [00:00<00:00,  4.37it/s, acc1=64.233, acc2=82.349, loss=1.003]\n",
            "Training Classifier @ Epoch 77: 100% 43/43 [00:07<00:00,  5.65it/s, acc1=61.405, acc2=80.873, loss=1.082, lr=1.00000e-06]\n",
            "Evaluation Classifier @ Epoch 77: 100% 4/4 [00:00<00:00,  4.55it/s, acc1=64.258, acc2=82.397, loss=1.003]\n",
            "Training Classifier @ Epoch 78: 100% 43/43 [00:07<00:00,  5.60it/s, acc1=61.124, acc2=80.632, loss=1.090, lr=1.00000e-06]\n",
            "Evaluation Classifier @ Epoch 78: 100% 4/4 [00:00<00:00,  4.54it/s, acc1=64.282, acc2=82.324, loss=1.003]\n",
            "Training Classifier @ Epoch 79: 100% 43/43 [00:07<00:00,  5.68it/s, acc1=61.367, acc2=80.685, loss=1.087, lr=1.00000e-06]\n",
            "Evaluation Classifier @ Epoch 79: 100% 4/4 [00:00<00:00,  4.48it/s, acc1=64.282, acc2=82.422, loss=1.003]\n",
            "(Epoch: 79) > Model Saved.\n",
            "Training Classifier @ Epoch 80: 100% 43/43 [00:07<00:00,  5.61it/s, acc1=61.251, acc2=80.687, loss=1.085, lr=1.00000e-06]\n",
            "Evaluation Classifier @ Epoch 80: 100% 4/4 [00:00<00:00,  4.47it/s, acc1=64.136, acc2=82.422, loss=1.003]\n",
            "Training Classifier @ Epoch 81: 100% 43/43 [00:07<00:00,  5.56it/s, acc1=61.196, acc2=80.635, loss=1.089, lr=1.00000e-06]\n",
            "Evaluation Classifier @ Epoch 81: 100% 4/4 [00:00<00:00,  4.47it/s, acc1=64.209, acc2=82.422, loss=1.003]\n",
            "Training Classifier @ Epoch 82: 100% 43/43 [00:07<00:00,  5.53it/s, acc1=60.990, acc2=80.728, loss=1.089, lr=1.00000e-06]\n",
            "Evaluation Classifier @ Epoch 82: 100% 4/4 [00:00<00:00,  4.47it/s, acc1=64.185, acc2=82.446, loss=1.003]\n",
            "Training Classifier @ Epoch 83: 100% 43/43 [00:07<00:00,  5.55it/s, acc1=61.244, acc2=80.889, loss=1.085, lr=1.00000e-06]\n",
            "Evaluation Classifier @ Epoch 83: 100% 4/4 [00:00<00:00,  4.35it/s, acc1=64.258, acc2=82.422, loss=1.003]\n",
            "Training Classifier @ Epoch 84: 100% 43/43 [00:07<00:00,  5.64it/s, acc1=61.369, acc2=80.762, loss=1.085, lr=1.00000e-06]\n",
            "Evaluation Classifier @ Epoch 84: 100% 4/4 [00:00<00:00,  4.44it/s, acc1=64.282, acc2=82.397, loss=1.003]\n",
            "Training Classifier @ Epoch 85: 100% 43/43 [00:07<00:00,  5.54it/s, acc1=61.022, acc2=80.773, loss=1.089, lr=1.00000e-06]\n",
            "Evaluation Classifier @ Epoch 85: 100% 4/4 [00:00<00:00,  4.53it/s, acc1=64.258, acc2=82.349, loss=1.003]\n",
            "Training Classifier @ Epoch 86: 100% 43/43 [00:07<00:00,  5.61it/s, acc1=61.128, acc2=80.796, loss=1.087, lr=1.00000e-06]\n",
            "Evaluation Classifier @ Epoch 86: 100% 4/4 [00:00<00:00,  4.63it/s, acc1=64.258, acc2=82.422, loss=1.003]\n",
            "Training Classifier @ Epoch 87: 100% 43/43 [00:07<00:00,  5.63it/s, acc1=61.371, acc2=80.660, loss=1.087, lr=1.00000e-06]\n",
            "Evaluation Classifier @ Epoch 87: 100% 4/4 [00:00<00:00,  4.53it/s, acc1=64.282, acc2=82.324, loss=1.003]\n",
            "Training Classifier @ Epoch 88: 100% 43/43 [00:07<00:00,  5.60it/s, acc1=61.276, acc2=80.971, loss=1.087, lr=1.00000e-06]\n",
            "Evaluation Classifier @ Epoch 88: 100% 4/4 [00:00<00:00,  4.46it/s, acc1=64.209, acc2=82.349, loss=1.003]\n",
            "Training Classifier @ Epoch 89: 100% 43/43 [00:07<00:00,  5.63it/s, acc1=61.194, acc2=80.739, loss=1.087, lr=1.00000e-06]\n",
            "Evaluation Classifier @ Epoch 89: 100% 4/4 [00:00<00:00,  4.52it/s, acc1=64.185, acc2=82.397, loss=1.003]\n",
            "Training Classifier @ Epoch 90: 100% 43/43 [00:07<00:00,  5.51it/s, acc1=61.240, acc2=80.637, loss=1.089, lr=1.00000e-06]\n",
            "Evaluation Classifier @ Epoch 90: 100% 4/4 [00:00<00:00,  4.51it/s, acc1=64.258, acc2=82.495, loss=1.003]\n",
            "Training Classifier @ Epoch 91: 100% 43/43 [00:07<00:00,  5.54it/s, acc1=61.037, acc2=80.621, loss=1.087, lr=1.00000e-06]\n",
            "Evaluation Classifier @ Epoch 91: 100% 4/4 [00:00<00:00,  4.34it/s, acc1=64.258, acc2=82.397, loss=1.003]\n",
            "Training Classifier @ Epoch 92: 100% 43/43 [00:07<00:00,  5.51it/s, acc1=61.153, acc2=80.521, loss=1.087, lr=1.00000e-06]\n",
            "Evaluation Classifier @ Epoch 92: 100% 4/4 [00:00<00:00,  4.47it/s, acc1=64.185, acc2=82.495, loss=1.003]\n",
            "Training Classifier @ Epoch 93: 100% 43/43 [00:07<00:00,  5.58it/s, acc1=61.290, acc2=80.878, loss=1.085, lr=1.00000e-06]\n",
            "Evaluation Classifier @ Epoch 93: 100% 4/4 [00:00<00:00,  4.42it/s, acc1=64.233, acc2=82.373, loss=1.003]\n",
            "Training Classifier @ Epoch 94: 100% 43/43 [00:07<00:00,  5.54it/s, acc1=61.233, acc2=80.698, loss=1.085, lr=1.00000e-06]\n",
            "Evaluation Classifier @ Epoch 94: 100% 4/4 [00:00<00:00,  4.57it/s, acc1=64.185, acc2=82.471, loss=1.003]\n",
            "Training Classifier @ Epoch 95: 100% 43/43 [00:07<00:00,  5.45it/s, acc1=61.385, acc2=80.734, loss=1.085, lr=1.00000e-06]\n",
            "Evaluation Classifier @ Epoch 95: 100% 4/4 [00:00<00:00,  4.44it/s, acc1=64.209, acc2=82.495, loss=1.003]\n",
            "Training Classifier @ Epoch 96: 100% 43/43 [00:07<00:00,  5.52it/s, acc1=61.246, acc2=80.530, loss=1.090, lr=1.00000e-06]\n",
            "Evaluation Classifier @ Epoch 96: 100% 4/4 [00:00<00:00,  4.51it/s, acc1=64.185, acc2=82.349, loss=1.003]\n",
            "Training Classifier @ Epoch 97: 100% 43/43 [00:07<00:00,  5.57it/s, acc1=61.071, acc2=80.721, loss=1.088, lr=1.00000e-06]\n",
            "Evaluation Classifier @ Epoch 97: 100% 4/4 [00:00<00:00,  4.44it/s, acc1=64.209, acc2=82.349, loss=1.003]\n",
            "Training Classifier @ Epoch 98: 100% 43/43 [00:07<00:00,  5.61it/s, acc1=61.096, acc2=80.764, loss=1.085, lr=1.00000e-06]\n",
            "Evaluation Classifier @ Epoch 98: 100% 4/4 [00:00<00:00,  4.38it/s, acc1=64.331, acc2=82.422, loss=1.003]\n",
            "Training Classifier @ Epoch 99: 100% 43/43 [00:07<00:00,  5.52it/s, acc1=61.071, acc2=80.650, loss=1.091, lr=1.00000e-06]\n",
            "Evaluation Classifier @ Epoch 99: 100% 4/4 [00:00<00:00,  4.62it/s, acc1=64.233, acc2=82.422, loss=1.003]\n",
            "(Epoch: 99) > Model Saved.\n",
            "Evaluation Classifier: 100% 9/9 [00:01<00:00,  5.08it/s, acc1=62.587, acc2=81.304, loss=1.053]\n"
          ]
        }
      ],
      "source": [
        "!bash ./eval.sh"
      ]
    },
    {
      "cell_type": "code",
      "execution_count": null,
      "metadata": {
        "id": "X6MED7is5IEQ"
      },
      "outputs": [],
      "source": []
    }
  ],
  "metadata": {
    "accelerator": "GPU",
    "colab": {
      "collapsed_sections": [],
      "provenance": []
    },
    "kernelspec": {
      "display_name": "Python 3",
      "name": "python3"
    },
    "language_info": {
      "name": "python"
    }
  },
  "nbformat": 4,
  "nbformat_minor": 0
}